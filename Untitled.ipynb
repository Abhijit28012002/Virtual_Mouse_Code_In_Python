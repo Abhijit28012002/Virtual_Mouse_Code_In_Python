{
 "cells": [
  {
   "cell_type": "markdown",
   "id": "08e4bbfe",
   "metadata": {},
   "source": [
    "# Virtual Mouse  code in python"
   ]
  },
  {
   "cell_type": "code",
   "execution_count": 28,
   "id": "88577f68",
   "metadata": {},
   "outputs": [],
   "source": [
    "import cv2\n",
    "import mediapipe as mp\n",
    "import pyautogui\n",
    "cap=cv2.VideoCapture(0)\n",
    "hand_detector=mp.solutions.hands.Hands()\n",
    "drawing=mp.solutions.drawing_utils\n",
    "screen_width,screen_height=pyautogui.size()\n",
    "index_y=0"
   ]
  },
  {
   "cell_type": "code",
   "execution_count": 29,
   "id": "ed229fd9",
   "metadata": {},
   "outputs": [
    {
     "name": "stdout",
     "output_type": "stream",
     "text": [
      "click\n",
      "click\n",
      "click\n",
      "click\n",
      "click\n",
      "click\n",
      "click\n",
      "click\n",
      "click\n"
     ]
    }
   ],
   "source": [
    "while True:\n",
    "    status,photo=cap.read()\n",
    "    photo=cv2.flip(photo,1)\n",
    "    photo_height,photo_weidth,_ = photo.shape\n",
    "    rgb_frame=cv2.cvtColor(photo,cv2.COLOR_BGR2RGB)\n",
    "    output=hand_detector.process(rgb_frame)\n",
    "    hands=output.multi_hand_landmarks\n",
    "    #print(hands)\n",
    "    if hands:\n",
    "        for hand in hands:\n",
    "            drawing.draw_landmarks(photo,hand)\n",
    "            landmarks = hand.landmark\n",
    "            for id,landmark in enumerate(landmarks):\n",
    "                x=int(landmark.x * photo_weidth)\n",
    "                y=int(landmark.y * photo_height)\n",
    "                #print(x,y)\n",
    "                if id==8 :\n",
    "                    cv2.circle(img=photo,center=(x,y),radius=15,color=(0,255,255),thickness=5)\n",
    "                    index_x=screen_width/photo_weidth*x\n",
    "                    index_y=screen_height/photo_height*y\n",
    "                    pyautogui.moveTo(index_x,index_y)\n",
    "                if id==4:\n",
    "                    cv2.circle(img=photo,center=(x,y),radius=15,color=(0,255,255),thickness=5)\n",
    "                    thumb_x=screen_width/photo_weidth*x\n",
    "                    thumb_y=screen_height/photo_height*y\n",
    "                    if abs(index_y-thumb_y)<20:\n",
    "                        print(\"click\")\n",
    "                        pyautogui.click()\n",
    "                        pyautogui.sleep(1)\n",
    "                    \n",
    "                    \n",
    "    cv2.imshow(\"Virtual Window\",photo)\n",
    "    if cv2.waitKey(10)==13:\n",
    "        break\n",
    "cv2.destroyAllWindows()\n",
    "cap.release()"
   ]
  },
  {
   "cell_type": "code",
   "execution_count": 1,
   "id": "7d748595",
   "metadata": {},
   "outputs": [
    {
     "name": "stdout",
     "output_type": "stream",
     "text": [
      "Requirement already satisfied: protobuf in c:\\users\\hp\\appdata\\local\\programs\\python\\python311\\lib\\site-packages (3.20.3)\n",
      "Note: you may need to restart the kernel to use updated packages.\n"
     ]
    }
   ],
   "source": [
    "pip install protobuf"
   ]
  },
  {
   "cell_type": "code",
   "execution_count": 7,
   "id": "dbd6372f",
   "metadata": {},
   "outputs": [
    {
     "data": {
      "text/plain": [
       "['ByteSize',\n",
       " 'Clear',\n",
       " 'ClearExtension',\n",
       " 'ClearField',\n",
       " 'CopyFrom',\n",
       " 'DESCRIPTOR',\n",
       " 'DiscardUnknownFields',\n",
       " 'FindInitializationErrors',\n",
       " 'FromString',\n",
       " 'HasExtension',\n",
       " 'HasField',\n",
       " 'IsInitialized',\n",
       " 'LANDMARK_FIELD_NUMBER',\n",
       " 'ListFields',\n",
       " 'MergeFrom',\n",
       " 'MergeFromString',\n",
       " 'ParseFromString',\n",
       " 'RegisterExtension',\n",
       " 'SerializePartialToString',\n",
       " 'SerializeToString',\n",
       " 'SetInParent',\n",
       " 'UnknownFields',\n",
       " 'WhichOneof',\n",
       " '_InternalParse',\n",
       " '_InternalSerialize',\n",
       " '_Modified',\n",
       " '_SetListener',\n",
       " '_UpdateOneofState',\n",
       " '__class__',\n",
       " '__deepcopy__',\n",
       " '__delattr__',\n",
       " '__dir__',\n",
       " '__doc__',\n",
       " '__eq__',\n",
       " '__format__',\n",
       " '__ge__',\n",
       " '__getattribute__',\n",
       " '__getstate__',\n",
       " '__gt__',\n",
       " '__hash__',\n",
       " '__init__',\n",
       " '__init_subclass__',\n",
       " '__le__',\n",
       " '__lt__',\n",
       " '__module__',\n",
       " '__ne__',\n",
       " '__new__',\n",
       " '__reduce__',\n",
       " '__reduce_ex__',\n",
       " '__repr__',\n",
       " '__setattr__',\n",
       " '__setstate__',\n",
       " '__sizeof__',\n",
       " '__slots__',\n",
       " '__str__',\n",
       " '__subclasshook__',\n",
       " '__unicode__',\n",
       " '__weakref__',\n",
       " '_cached_byte_size',\n",
       " '_cached_byte_size_dirty',\n",
       " '_decoders_by_tag',\n",
       " '_extensions_by_name',\n",
       " '_extensions_by_number',\n",
       " '_fields',\n",
       " '_is_present_in_parent',\n",
       " '_listener',\n",
       " '_listener_for_children',\n",
       " '_oneofs',\n",
       " '_unknown_field_set',\n",
       " '_unknown_fields',\n",
       " 'landmark']"
      ]
     },
     "execution_count": 7,
     "metadata": {},
     "output_type": "execute_result"
    }
   ],
   "source": [
    "dir(hand)"
   ]
  },
  {
   "cell_type": "code",
   "execution_count": null,
   "id": "5560fa68",
   "metadata": {},
   "outputs": [],
   "source": []
  }
 ],
 "metadata": {
  "kernelspec": {
   "display_name": "Python 3 (ipykernel)",
   "language": "python",
   "name": "python3"
  },
  "language_info": {
   "codemirror_mode": {
    "name": "ipython",
    "version": 3
   },
   "file_extension": ".py",
   "mimetype": "text/x-python",
   "name": "python",
   "nbconvert_exporter": "python",
   "pygments_lexer": "ipython3",
   "version": "3.11.4"
  }
 },
 "nbformat": 4,
 "nbformat_minor": 5
}
